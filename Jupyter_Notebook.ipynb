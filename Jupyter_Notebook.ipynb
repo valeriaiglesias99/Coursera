{
 "cells": [
  {
   "cell_type": "markdown",
   "metadata": {},
   "source": [
    "<center>\n",
    "    <img src=\"https://cf-courses-data.s3.us.cloud-object-storage.appdomain.cloud/IBMDeveloperSkillsNetwork-DS0105EN-SkillsNetwork/labs/Module2/images/SN_web_lightmode.png\" width=\"300\" alt=\"cognitiveclass.ai logo\">\n",
    "</center>\n"
   ]
  },
  {
   "cell_type": "markdown",
   "metadata": {},
   "source": [
    "#### Add your code below following the instructions given in the course\n"
   ]
  },
  {
   "cell_type": "markdown",
   "metadata": {},
   "source": [
    "# Final Assignment"
   ]
  },
  {
   "cell_type": "markdown",
   "metadata": {},
   "source": [
    "## *Introduction*\n",
    "\n",
    "In this final work the use of Jupyter notebook and its correct handling will be presented. There will also be a little talk about the different programming languages and libraries for data science."
   ]
  },
  {
   "cell_type": "markdown",
   "metadata": {
    "tags": []
   },
   "source": [
    "### 1. Data Science Languages:\n",
    "\n",
    "- Python\n",
    "- R\n",
    "- Julia\n",
    "- Scala"
   ]
  },
  {
   "cell_type": "markdown",
   "metadata": {},
   "source": [
    "### 2. Data Science libraries:\n",
    "- Pandas\n",
    "- Tensorflow\n",
    "- Pytorch \n",
    "- Matplotlib\n",
    "- Sk-learn\n",
    "- Numpy\n",
    "- Pytorch\n",
    "- ggplot"
   ]
  },
  {
   "cell_type": "markdown",
   "metadata": {},
   "source": [
    "### 3. Data Science tools:\n",
    "\n",
    "- Jupyter Notebooks\n",
    "- Visual Studio Code\n",
    "- Tableau\n",
    "- Power Bi\n",
    "- IBM Watson Studio\n",
    "- Google Colab\n",
    "- Apache"
   ]
  },
  {
   "cell_type": "markdown",
   "metadata": {},
   "source": [
    "### 4. Arithmetic expression examples:\n",
    "- 5+3\n",
    "- 4*2"
   ]
  },
  {
   "cell_type": "markdown",
   "metadata": {},
   "source": [
    "### 5. code cell to multiply and add numbers:"
   ]
  },
  {
   "cell_type": "code",
   "execution_count": 1,
   "metadata": {
    "tags": []
   },
   "outputs": [
    {
     "name": "stdout",
     "output_type": "stream",
     "text": [
      "7\n"
     ]
    }
   ],
   "source": [
    "a=2\n",
    "b=5\n",
    "print(a+b)"
   ]
  },
  {
   "cell_type": "code",
   "execution_count": 2,
   "metadata": {
    "tags": []
   },
   "outputs": [
    {
     "name": "stdout",
     "output_type": "stream",
     "text": [
      "10\n"
     ]
    }
   ],
   "source": [
    "print(a*b)"
   ]
  },
  {
   "cell_type": "markdown",
   "metadata": {},
   "source": [
    "### 6. code cell to convert minutes to hours:\n"
   ]
  },
  {
   "cell_type": "code",
   "execution_count": 4,
   "metadata": {
    "tags": []
   },
   "outputs": [
    {
     "name": "stdin",
     "output_type": "stream",
     "text": [
      "Ingresa la cantidad de minutos:  100\n"
     ]
    }
   ],
   "source": [
    "min = int(input(\"Ingresa la cantidad de minutos: \"))"
   ]
  },
  {
   "cell_type": "code",
   "execution_count": 5,
   "metadata": {
    "tags": []
   },
   "outputs": [
    {
     "name": "stdout",
     "output_type": "stream",
     "text": [
      "100 minutos equivalen a 1 horas y 40 minutos.\n"
     ]
    }
   ],
   "source": [
    "horas = min // 60  # División entera para obtener las horas\n",
    "minutos = min % 60  # El residuo es la cantidad de minutos restantes\n",
    "\n",
    "print(f\"{minutos_totales} minutos equivalen a {horas} horas y {minutos} minutos.\")"
   ]
  },
  {
   "cell_type": "markdown",
   "metadata": {},
   "source": [
    "## *Objectives*\n",
    "\n",
    "- Handling of Jupyter notebook, creating code and markdown cells.\n",
    "- Share the file on Github and make it public.\n",
    "\n"
   ]
  },
  {
   "cell_type": "markdown",
   "metadata": {},
   "source": [
    "##  *Author*\n",
    "\n",
    "Valeria Iglesias Miranda"
   ]
  },
  {
   "cell_type": "code",
   "execution_count": null,
   "metadata": {},
   "outputs": [],
   "source": []
  }
 ],
 "metadata": {
  "kernelspec": {
   "display_name": "Python",
   "language": "python",
   "name": "conda-env-python-py"
  },
  "language_info": {
   "codemirror_mode": {
    "name": "ipython",
    "version": 3
   },
   "file_extension": ".py",
   "mimetype": "text/x-python",
   "name": "python",
   "nbconvert_exporter": "python",
   "pygments_lexer": "ipython3",
   "version": "3.7.12"
  }
 },
 "nbformat": 4,
 "nbformat_minor": 4
}
